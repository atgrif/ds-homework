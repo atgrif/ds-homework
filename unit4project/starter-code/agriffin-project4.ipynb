{
 "cells": [
  {
   "cell_type": "markdown",
   "metadata": {},
   "source": [
    "# Project 4\n",
    "\n",
    "In this project, you will summarize and present your analysis from Projects 1-3."
   ]
  },
  {
   "cell_type": "code",
   "execution_count": null,
   "metadata": {},
   "outputs": [],
   "source": []
  },
  {
   "cell_type": "markdown",
   "metadata": {},
   "source": [
    "### Intro: Write a problem Statement/ Specific Aim for this project"
   ]
  },
  {
   "cell_type": "markdown",
   "metadata": {},
   "source": [
    "Answer: Determine which students will be admitted to grad school using information about the student's GPA, GRE scores, and the prestige level (1, 2, 3, 4) of their undergraduate institution."
   ]
  },
  {
   "cell_type": "markdown",
   "metadata": {},
   "source": [
    "### Dataset:  Write up a description of your data and any cleaning that was completed"
   ]
  },
  {
   "cell_type": "markdown",
   "metadata": {},
   "source": [
    "Answer: The dataset includes GPA (0 to 4.0), GRE score (200 to 800), and the prestige level of their undergraduate insitution (1, 2, 3, 4).  Any rows missing values were removed.  Outliers were removed from the dataset."
   ]
  },
  {
   "cell_type": "markdown",
   "metadata": {
    "collapsed": true
   },
   "source": [
    "### Demo: Provide a table that explains the data by admission status"
   ]
  },
  {
   "cell_type": "markdown",
   "metadata": {},
   "source": [
    "Mean (STD) or counts by admission status for each variable \n",
    "\n",
    "| Not Admitted | Admitted\n",
    "---| ---|---\n",
    "GPA | mean(std)  | mean(std)\n",
    "GRE |mean(std) | mean(std)\n",
    "Prestige 1 | frequency (%) | frequency (%)\n",
    "Prestige 2 | frequency (%) | frequency (%)\n",
    "Prestige 3 |frequency (%) | frequency (%)\n",
    "Prestige 4 |frequency (%) | frequency (%)\n",
    "\n",
    "| Not Admitted | Admitted\n",
    "---| ---|---\n",
    "GPA | mean(std)  | mean(std)\n",
    "GRE |mean(std) | mean(std)\n",
    "Prestige 1 | 15.3 % | 84.7%\n",
    "Prestige 2 | 37.2 % | 62.8%\n",
    "Prestige 3 | 30.4 % | 69.6%\n",
    "Prestige 4 | 16.8 % | 83.2%\n",
    "\n",
    "\n",
    "To solve for the questions about mean, I tried to create a for loop that divided the dataframe into two smaller dataframes using an if else statement, however, I kept getting errors.  Had that worked, from there, I was going to use .mean() to find the mean for admitted and non admitted students' GPA and GRE.  That code can be seen at the bottom of unit project 3.\n",
    "\n",
    "for x in range(0, 188):\n",
    "    if handCalc.admit[x] == 1:\n",
    "        admit_mean = handCalc.gpa[x]\n",
    "        #print 'yes'\n",
    "        \n",
    "    else:\n",
    "        noadmit_mean = handCalc.gpa[x]\n",
    "        #print 'no'\n",
    "\n",
    "15.3652392947\n",
    "37.2795969773\n",
    "30.4785894207\n",
    "16.8765743073"
   ]
  },
  {
   "cell_type": "markdown",
   "metadata": {},
   "source": [
    "### Methods: Write up the methods used in your analysis"
   ]
  },
  {
   "cell_type": "markdown",
   "metadata": {},
   "source": [
    "Answer: We created a clean dataset, got the dummy variables for prestige, set the covariates for GRE and GPA, and then fit our data model using logistical regression."
   ]
  },
  {
   "cell_type": "markdown",
   "metadata": {},
   "source": [
    "### Results: Write up your results"
   ]
  },
  {
   "cell_type": "markdown",
   "metadata": {},
   "source": [
    "Answer: Based on the odds ratio for attending a prestige 1 school being close to 3, going to a prestige 1 school significantly increases your odds of getting into grad school.  Having a high GPA and GRE score also increase your odds."
   ]
  },
  {
   "cell_type": "markdown",
   "metadata": {},
   "source": [
    "### Visuals: Provide a table or visualization of these results"
   ]
  },
  {
   "cell_type": "markdown",
   "metadata": {},
   "source": [
    "<img src='placeholder.png' height= 25% width= 25%>\n"
   ]
  },
  {
   "cell_type": "markdown",
   "metadata": {},
   "source": [
    "<img src='placeholder.png' height= 25% width= 25%>"
   ]
  },
  {
   "cell_type": "markdown",
   "metadata": {},
   "source": [
    "### Discussion: Write up your discussion and future steps"
   ]
  },
  {
   "cell_type": "markdown",
   "metadata": {},
   "source": [
    "Answer: Our findings indicate prestige is the biggest indicator of admittance into grad school.  From here we would want to compare prestige to other variables such as area of undergraduate study and intended area of study for grad school, and possibly things such as if they had conducted any research as an undergraduate."
   ]
  },
  {
   "cell_type": "code",
   "execution_count": null,
   "metadata": {
    "collapsed": true
   },
   "outputs": [],
   "source": []
  }
 ],
 "metadata": {
  "kernelspec": {
   "display_name": "Python 2",
   "language": "python",
   "name": "python2"
  },
  "language_info": {
   "codemirror_mode": {
    "name": "ipython",
    "version": 2
   },
   "file_extension": ".py",
   "mimetype": "text/x-python",
   "name": "python",
   "nbconvert_exporter": "python",
   "pygments_lexer": "ipython2",
   "version": "2.7.13"
  }
 },
 "nbformat": 4,
 "nbformat_minor": 1
}
